{
 "cells": [
  {
   "cell_type": "markdown",
   "metadata": {},
   "source": [
    "Operadores aritmeticos\n",
    "\n",
    "#Exploremos cómo podemos crear un programa que pueda calcular la distancia entre dos planetas. Comenzaremos usando dos distancias de planetas: Tierra (149.597.870 km) y Júpiter (778.547.200 km)."
   ]
  },
  {
   "cell_type": "code",
   "execution_count": 13,
   "metadata": {},
   "outputs": [
    {
     "name": "stdout",
     "output_type": "stream",
     "text": [
      "La distancia entre la Tierra y Jupiter es: 628949330 km\n"
     ]
    }
   ],
   "source": [
    "tierra = 149597870 \n",
    "jupiter = 778547200\n",
    "distancia = jupiter -tierra\n",
    "\n",
    "print(\"La distancia entre la Tierra y Jupiter es: \"+ str(distancia)+ \" km\")"
   ]
  },
  {
   "cell_type": "markdown",
   "metadata": {},
   "source": [
    "Convertir la distancia en millas"
   ]
  },
  {
   "cell_type": "code",
   "execution_count": 15,
   "metadata": {},
   "outputs": [
    {
     "name": "stdout",
     "output_type": "stream",
     "text": [
      "La distancia entre la Tierra y Jupiter es: 390577534 millas\n"
     ]
    }
   ],
   "source": [
    "milla = round(distancia * float('0.621'))\n",
    "print(\"La distancia entre la Tierra y Jupiter es: \"+ str(milla)+ \" millas\")"
   ]
  },
  {
   "cell_type": "markdown",
   "metadata": {},
   "source": [
    "#Ejercicio 2"
   ]
  },
  {
   "cell_type": "code",
   "execution_count": 31,
   "metadata": {},
   "outputs": [
    {
     "name": "stdout",
     "output_type": "stream",
     "text": [
      "Valor en km: 50300000\n",
      "Valor en millas: 31236300.0\n"
     ]
    }
   ],
   "source": [
    "planetaUno = int(input('¿Cuál es la distancia del Sol para el primer planeta en KM?'))\n",
    "planetaDos = int(input('¿Cuál es la distancia del Sol para el segundo planeta en KM?'))\n",
    "valorAbs = abs(planetaUno - planetaDos)\n",
    "millas = valorAbs * 0.621\n",
    "\n",
    "print(\"Valor en km: \"+ str(valorAbs))\n",
    "print(\"Valor en millas: \"+ str(millas))"
   ]
  }
 ],
 "metadata": {
  "interpreter": {
   "hash": "916dbcbb3f70747c44a77c7bcd40155683ae19c65e1c03b4aa3499c5328201f1"
  },
  "kernelspec": {
   "display_name": "Python 3.9.7 64-bit",
   "language": "python",
   "name": "python3"
  },
  "language_info": {
   "codemirror_mode": {
    "name": "ipython",
    "version": 3
   },
   "file_extension": ".py",
   "mimetype": "text/x-python",
   "name": "python",
   "nbconvert_exporter": "python",
   "pygments_lexer": "ipython3",
   "version": "3.9.7"
  },
  "orig_nbformat": 4
 },
 "nbformat": 4,
 "nbformat_minor": 2
}
