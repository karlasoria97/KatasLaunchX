{
 "cells": [
  {
   "cell_type": "markdown",
   "metadata": {},
   "source": [
    "Listas"
   ]
  },
  {
   "cell_type": "code",
   "execution_count": 3,
   "metadata": {},
   "outputs": [
    {
     "name": "stdout",
     "output_type": "stream",
     "text": [
      "Este es el primer del sistema solar:  Mercurio\n",
      "Este es el segundo del sistema solar:  Venus\n",
      "Este es el tercero del sistema solar:  Tierra\n",
      "Este es el cuarto del sistema solar:  Marte\n",
      "Este es el quinto del sistema solar:  Jupiter\n",
      "Este es el sexto del sistema solar:  Saturno\n",
      "Este es el septimo del sistema solar:  Urano\n",
      "Este es el octavo del sistema solar:  Neptuno\n"
     ]
    }
   ],
   "source": [
    "planets = ['Mercurio', 'Venus', 'Tierra', 'Marte', 'Jupiter', 'Saturno', 'Urano', 'Neptuno']\n",
    "\n",
    "\n",
    "print('Este es el primer del sistema solar: ', planets [0])\n",
    "print('Este es el segundo del sistema solar: ', planets [1])\n",
    "print('Este es el tercero del sistema solar: ', planets [2])\n",
    "print('Este es el cuarto del sistema solar: ', planets [3])\n",
    "print('Este es el quinto del sistema solar: ', planets [4])\n",
    "print('Este es el sexto del sistema solar: ', planets [5])\n",
    "print('Este es el septimo del sistema solar: ', planets [6])\n",
    "print('Este es el octavo del sistema solar: ', planets [7])\n"
   ]
  },
  {
   "cell_type": "markdown",
   "metadata": {},
   "source": [
    "Agregar a pluton"
   ]
  },
  {
   "cell_type": "code",
   "execution_count": 15,
   "metadata": {},
   "outputs": [
    {
     "name": "stdout",
     "output_type": "stream",
     "text": [
      "El planeta que se agregó fue Pluton en la posición 9\n"
     ]
    }
   ],
   "source": [
    "\n",
    "planets.append('Pluton')\n",
    "indexP = planets.index('Pluton')\n",
    "\n",
    "print('El planeta que se agregó fue Pluton en la posición', indexP +1 )\n"
   ]
  },
  {
   "cell_type": "markdown",
   "metadata": {},
   "source": [
    "Ejercicio 2"
   ]
  },
  {
   "cell_type": "code",
   "execution_count": null,
   "metadata": {},
   "outputs": [],
   "source": [
    "planets2 = ['Mercury', 'Venus', 'Earth', 'Mars', 'Jupiter', 'Saturn', 'Neptune']"
   ]
  },
  {
   "cell_type": "code",
   "execution_count": 28,
   "metadata": {},
   "outputs": [
    {
     "name": "stdout",
     "output_type": "stream",
     "text": [
      "El planeta nuevo está en la posicion  8\n",
      "El planeta agregado esta cerca de  ['Neptune']\n"
     ]
    }
   ],
   "source": [
    "planets2 = ['Mercury', 'Venus', 'Earth', 'Mars', 'Jupiter', 'Saturn', 'Neptune']\n",
    "planetNew = input('Ingresa un nuevo planeta')\n",
    "planets2.append(planetNew)\n",
    "index_New = planets2.index(str(planetNew)) \n",
    "print('El planeta nuevo está en la posicion ', index_New + 1)\n",
    "planet_Posicion = planets2[6:index_New]\n",
    "print('El planeta agregado esta cerca de ', planet_Posicion)\n"
   ]
  }
 ],
 "metadata": {
  "interpreter": {
   "hash": "916dbcbb3f70747c44a77c7bcd40155683ae19c65e1c03b4aa3499c5328201f1"
  },
  "kernelspec": {
   "display_name": "Python 3.9.7 64-bit",
   "language": "python",
   "name": "python3"
  },
  "language_info": {
   "codemirror_mode": {
    "name": "ipython",
    "version": 3
   },
   "file_extension": ".py",
   "mimetype": "text/x-python",
   "name": "python",
   "nbconvert_exporter": "python",
   "pygments_lexer": "ipython3",
   "version": "3.9.7"
  },
  "orig_nbformat": 4
 },
 "nbformat": 4,
 "nbformat_minor": 2
}
