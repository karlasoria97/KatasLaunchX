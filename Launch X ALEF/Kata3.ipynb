{
 "cells": [
  {
   "cell_type": "markdown",
   "metadata": {},
   "source": [
    "#Advertensia de asteroide\n"
   ]
  },
  {
   "cell_type": "code",
   "execution_count": 29,
   "metadata": {},
   "outputs": [
    {
     "name": "stdout",
     "output_type": "stream",
     "text": [
      "Fuerta de peligro\n"
     ]
    }
   ],
   "source": [
    "velocidadAst = 49\n",
    "velocidadLim = 25\n",
    "cercaSol = False\n",
    "\n",
    "if velocidadAst > velocidadLim:\n",
    "    if cercaSol == True:\n",
    "        print(\"ALERTA! Un asteroide se acerca a \" +str(velocidadAst)+\" km/s\")\n",
    "    else: \n",
    "        print('Fuera de peligro')"
   ]
  },
  {
   "cell_type": "markdown",
   "metadata": {},
   "source": [
    "#Buscar el asteroide\n"
   ]
  },
  {
   "cell_type": "code",
   "execution_count": 38,
   "metadata": {},
   "outputs": [
    {
     "name": "stdout",
     "output_type": "stream",
     "text": [
      "Entrará un asteroide a la Tierra, pero no se podrá apreciar :(\n"
     ]
    }
   ],
   "source": [
    "velocidadAstE = 19\n",
    "velocidadEnt = 20\n",
    "\n",
    "if velocidadAstE >= velocidadEnt:\n",
    "    print(\"Si desean ver un asteroide, es momento de que volteen al cielo :3\")\n",
    "elif velocidadAstE < velocidadEnt:\n",
    "    print(\"Entrará un asteroide a la Tierra, pero no se podrá apreciar :(\")\n",
    "else:\n",
    "    print(\"Todo bien\")\n"
   ]
  },
  {
   "cell_type": "markdown",
   "metadata": {},
   "source": [
    "#Riesgo de colisión"
   ]
  },
  {
   "cell_type": "code",
   "execution_count": 37,
   "metadata": {},
   "outputs": [
    {
     "name": "stdout",
     "output_type": "stream",
     "text": [
      "Se podrá apreciar la en trarda del asteroide.\n"
     ]
    }
   ],
   "source": [
    "diametroAst = 25\n",
    "diametroLimI = 25\n",
    "diametroLimS = 1000\n",
    "cercaSolD = False\n",
    "veloAst = 50\n",
    "veloLim = 25\n",
    "veloEnt = 20\n",
    "\n",
    "\n",
    "if diametroAst > diametroLimI and diametroAst < diametroLimS or veloAst >= veloLim and cercaSolD == True:\n",
    "    print(\"PELIGRO INMINENTE!!! El asteroide que está apunto de entrar a la Tierra causará daños\")\n",
    "elif veloAst >= veloEnt and diametroAst <= diametroLimI and cercaSolD == False:\n",
    "    print(\"Se podrá apreciar la en trarda del asteroide.\")\n",
    "else:\n",
    "    print(\"No pasa nada\")"
   ]
  }
 ],
 "metadata": {
  "interpreter": {
   "hash": "916dbcbb3f70747c44a77c7bcd40155683ae19c65e1c03b4aa3499c5328201f1"
  },
  "kernelspec": {
   "display_name": "Python 3.9.7 64-bit",
   "language": "python",
   "name": "python3"
  },
  "language_info": {
   "codemirror_mode": {
    "name": "ipython",
    "version": 3
   },
   "file_extension": ".py",
   "mimetype": "text/x-python",
   "name": "python",
   "nbconvert_exporter": "python",
   "pygments_lexer": "ipython3",
   "version": "3.9.7"
  },
  "orig_nbformat": 4
 },
 "nbformat": 4,
 "nbformat_minor": 2
}
