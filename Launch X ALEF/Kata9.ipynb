{
 "cells": [
  {
   "cell_type": "markdown",
   "metadata": {},
   "source": [
    "Funciones"
   ]
  },
  {
   "cell_type": "code",
   "execution_count": 10,
   "metadata": {},
   "outputs": [
    {
     "name": "stdout",
     "output_type": "stream",
     "text": [
      " Fuel report:\n",
      "    Total average: 82.66666666666667%\n",
      "    Tank 1: 50%\n",
      "    Tank 2: 100%\n",
      "    Tank 3: 98%\n",
      "    \n"
     ]
    }
   ],
   "source": [
    "#Definiendo la funsión\n",
    "def rocket_tanks(Tank_1, Tank_2, Tank_3):\n",
    "    average_fuel = (Tank_1+Tank_2+Tank_3)/3\n",
    "    return f\"\"\" Fuel report:\n",
    "    Total average: {average_fuel}%\n",
    "    Tank 1: {Tank_1}%\n",
    "    Tank 2: {Tank_2}%\n",
    "    Tank 3: {Tank_3}%\n",
    "    \"\"\"\n",
    "print(rocket_tanks(50,100,98))\n"
   ]
  },
  {
   "cell_type": "code",
   "execution_count": 12,
   "metadata": {},
   "outputs": [
    {
     "data": {
      "text/plain": [
       "56.666666666666664"
      ]
     },
     "execution_count": 12,
     "metadata": {},
     "output_type": "execute_result"
    }
   ],
   "source": [
    "def average(values):\n",
    "    total = sum(values)\n",
    "    num_items = len(values)\n",
    "    return total/num_items\n",
    "\n",
    "average([100,50,20])\n"
   ]
  },
  {
   "cell_type": "code",
   "execution_count": 13,
   "metadata": {},
   "outputs": [
    {
     "name": "stdout",
     "output_type": "stream",
     "text": [
      " Fuel report:\n",
      "    Total average: 82.66666666666667%\n",
      "    Tank 1: 50%\n",
      "    Tank 2: 100%\n",
      "    Tank 3: 98%\n",
      "    \n"
     ]
    }
   ],
   "source": [
    "#Definiendo la funsión\n",
    "def rocket_tanks(Tank_1, Tank_2, Tank_3):\n",
    "    return f\"\"\" Fuel report:\n",
    "    Total average: {average([Tank_1,Tank_2,Tank_3])}%\n",
    "    Tank 1: {Tank_1}%\n",
    "    Tank 2: {Tank_2}%\n",
    "    Tank 3: {Tank_3}%\n",
    "    \"\"\"\n",
    "print(rocket_tanks(50,100,98))"
   ]
  },
  {
   "cell_type": "markdown",
   "metadata": {},
   "source": [
    "Palabras clave"
   ]
  },
  {
   "cell_type": "code",
   "execution_count": 15,
   "metadata": {},
   "outputs": [
    {
     "name": "stdout",
     "output_type": "stream",
     "text": [
      " Reporte de misión:\n",
      "    Destino: Marte\n",
      "    Tanque principal: 95%\n",
      "    Tanque externo: 100%\n",
      "    Tiempo de viaje: 200 horas\n",
      "    Hora de despegue: 2000 horas\n",
      "    \n"
     ]
    }
   ],
   "source": [
    "def mision(prelanzamiento,tiempo_vuelo,destino,tanque_externo, tanque_interno):\n",
    "    return f\"\"\" Reporte de misión:\n",
    "    Destino: {destino}\n",
    "    Tanque principal: {tanque_interno}%\n",
    "    Tanque externo: {tanque_externo}%\n",
    "    Tiempo de viaje: {tiempo_vuelo} horas\n",
    "    Hora de despegue: {prelanzamiento} horas\n",
    "    \"\"\"\n",
    "print(mision(2000,200,'Marte', 100, 95))\n",
    "    "
   ]
  },
  {
   "cell_type": "code",
   "execution_count": 20,
   "metadata": {},
   "outputs": [
    {
     "name": "stdout",
     "output_type": "stream",
     "text": [
      " Reporte de misión:\n",
      "    Destino: Marte\n",
      "    Tanque principal: 95%\n",
      "    Tanque externo: 100%\n",
      "    Tiempo de viaje: 200 horas\n",
      "    Hora de despegue: 2000 horas\n",
      "    Total de minutos: 76 min\n",
      "    Total de gas extra: 500000\n",
      "    \n"
     ]
    }
   ],
   "source": [
    "def mision(prelanzamiento,tiempo_vuelo,destino,tanque_externo, tanque_interno,*minutos,**gas_extra):\n",
    "    return f\"\"\" Reporte de misión:\n",
    "    Destino: {destino}\n",
    "    Tanque principal: {tanque_interno}%\n",
    "    Tanque externo: {tanque_externo}%\n",
    "    Tiempo de viaje: {tiempo_vuelo} horas\n",
    "    Hora de despegue: {prelanzamiento} horas\n",
    "    Total de minutos: {sum(minutos)} min\n",
    "    Total de gas extra: {sum(gas_extra.values())}\n",
    "    \"\"\"\n",
    "\n",
    "    for tanque_externo, tanque_interno, galones in gas_extra.items():\n",
    "        mision += f\"{tanque_externo, tanque_interno} tank --> {galones} galones restantes\\n\"\n",
    "    return mision\n",
    "\n",
    "print(mision(2000,200,'Marte', 100, 95, 10, 15, 51, main=300000, external=200000))"
   ]
  }
 ],
 "metadata": {
  "interpreter": {
   "hash": "97cc609b13305c559618ec78a438abc56230b9381f827f22d070313b9a1f3777"
  },
  "kernelspec": {
   "display_name": "Python 3.10.0 64-bit",
   "language": "python",
   "name": "python3"
  },
  "language_info": {
   "codemirror_mode": {
    "name": "ipython",
    "version": 3
   },
   "file_extension": ".py",
   "mimetype": "text/x-python",
   "name": "python",
   "nbconvert_exporter": "python",
   "pygments_lexer": "ipython3",
   "version": "3.10.0"
  },
  "orig_nbformat": 4
 },
 "nbformat": 4,
 "nbformat_minor": 2
}
